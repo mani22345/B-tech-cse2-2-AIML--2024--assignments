{
  "cells": [
    {
      "cell_type": "code",
      "execution_count": null,
      "metadata": {
        "colab": {
          "base_uri": "https://localhost:8080/"
        },
        "id": "Uj9Zm8JTyoJr",
        "outputId": "cb3a2218-bfcf-4795-f14f-ebbe31c51736"
      },
      "outputs": [
        {
          "name": "stdout",
          "output_type": "stream",
          "text": [
            "[1, 2, 3, 4, 5, 4, 5, 6, 7, 8]\n",
            "<class 'list'>\n"
          ]
        }
      ],
      "source": [
        "l1=[1,2,3,4,5]\n",
        "l2=[4,5,6,7,8]\n",
        "a=l1+l2\n",
        "print(a)\n",
        "print(type(a))"
      ]
    },
    {
      "cell_type": "code",
      "execution_count": null,
      "metadata": {
        "colab": {
          "base_uri": "https://localhost:8080/"
        },
        "id": "BD3l8aMu2VK1",
        "outputId": "92134322-9297-459f-c79a-3bacd54df64e"
      },
      "outputs": [
        {
          "name": "stdout",
          "output_type": "stream",
          "text": [
            "[1 2 3 4 5]\n",
            "3\n",
            "[2 3 4]\n"
          ]
        }
      ],
      "source": [
        "import numpy as np\n",
        "list1 = np.array([1, 2, 3, 4, 5])\n",
        "print(list1)\n",
        "# Accessing elements\n",
        "print(list1[2])\n",
        "# Slicing\n",
        "print(list1[1:4])"
      ]
    },
    {
      "cell_type": "code",
      "execution_count": null,
      "metadata": {
        "colab": {
          "base_uri": "https://localhost:8080/"
        },
        "id": "TrOezSnd2mGx",
        "outputId": "8d15cdeb-f955-487a-dd6f-3a72e6def643"
      },
      "outputs": [
        {
          "name": "stdout",
          "output_type": "stream",
          "text": [
            "[ 7  9 11 13]\n",
            "<class 'numpy.ndarray'>\n"
          ]
        }
      ],
      "source": [
        "import numpy as np\n",
        "l1=[1,2,3,4]\n",
        "l2=[6,7,8,9]\n",
        "a=np.array(l1)\n",
        "b=np.array(l2)\n",
        "print(a+b)\n",
        "print(type(a+b))"
      ]
    },
    {
      "cell_type": "code",
      "execution_count": null,
      "metadata": {
        "colab": {
          "base_uri": "https://localhost:8080/"
        },
        "id": "-_9d9BYE24Y_",
        "outputId": "6f258c8b-d723-49e6-8087-9b999a075811"
      },
      "outputs": [
        {
          "name": "stdout",
          "output_type": "stream",
          "text": [
            "[[ 2  5  7]\n",
            " [ 8  7 15]\n",
            " [ 8 10 12]]\n",
            "[[ 12  13  31]\n",
            " [ 30  34  79]\n",
            " [ 48  55 127]]\n",
            "[[       1        8       81]\n",
            " [     256       25 10077696]\n",
            " [       7       64      729]]\n"
          ]
        }
      ],
      "source": [
        "import numpy as np\n",
        "a=[[1,2,3],[4,5,6],[7,8,9]]\n",
        "b=[[1,3,4],[4,2,9],[1,2,3]]\n",
        "c=np.array(a)\n",
        "d=np.array(b)\n",
        "print(c+d)\n",
        "#multiplication\n",
        "e=np.matmul(a,b)\n",
        "print(e)\n",
        "f=np.power(a,b)\n",
        "print(f)\n",
        "g=np.divide(a,b)"
      ]
    },
    {
      "cell_type": "code",
      "execution_count": null,
      "metadata": {
        "colab": {
          "base_uri": "https://localhost:8080/"
        },
        "id": "b22ws4Sh3FnL",
        "outputId": "7eee0bbb-d067-4c44-9329-6b00eea492e3"
      },
      "outputs": [
        {
          "name": "stdout",
          "output_type": "stream",
          "text": [
            "[ 7  9 11 13]\n"
          ]
        }
      ],
      "source": [
        "import numpy as np\n",
        "l1=[1,2,3,4]\n",
        "l2=[6,7,8,9]\n",
        "a=np.array(l1)\n",
        "b=np.array(l2)\n",
        "print(a+b)"
      ]
    },
    {
      "cell_type": "code",
      "execution_count": null,
      "metadata": {
        "colab": {
          "base_uri": "https://localhost:8080/"
        },
        "id": "o9GN9m004cnV",
        "outputId": "1b759b63-e178-4fad-aa9b-fb76f543da7e"
      },
      "outputs": [
        {
          "name": "stdout",
          "output_type": "stream",
          "text": [
            "[ 0.84147098  0.14112001  0.90929743 -0.7568025 ]\n",
            "[0.         1.09861229 0.69314718 1.38629436]\n",
            "[0.        1.5849625 1.        2.       ]\n",
            "[ 2.71828183 20.08553692  7.3890561  54.59815003]\n"
          ]
        }
      ],
      "source": [
        "app=[1,3,2,4]\n",
        "s=np.sin(app)\n",
        "print(s)\n",
        "t=np.log(app)\n",
        "print(t)\n",
        "u=np.log2(app)\n",
        "print(u)\n",
        "v=np.exp(app)\n",
        "print(v)"
      ]
    },
    {
      "cell_type": "code",
      "execution_count": null,
      "metadata": {
        "colab": {
          "base_uri": "https://localhost:8080/"
        },
        "id": "tLe5opdA8HSU",
        "outputId": "76c9c423-c976-425d-d979-ad973bd2ff7f"
      },
      "outputs": [
        {
          "name": "stdout",
          "output_type": "stream",
          "text": [
            "    name  Age  Height  Weight\n",
            "0  kiran   25     145      45\n",
            "1   arun   30     151      55\n",
            "2  vijay   35     165      65\n",
            "3  varun   40     173      75\n"
          ]
        }
      ],
      "source": [
        "import pandas as pd\n",
        "people = ['kiran', 'arun', 'vijay', 'varun']\n",
        "age = [25, 30, 35, 40]\n",
        "height = [145, 151, 165, 173]\n",
        "weight = [45, 55, 65, 75]\n",
        "health = pd.DataFrame({\n",
        "    'name': people,\n",
        "    'Age': age,\n",
        "    'Height': height,\n",
        "    'Weight': weight\n",
        "    })\n",
        "\n",
        "# Display the generated dataset\n",
        "print(health)"
      ]
    },
    {
      "cell_type": "code",
      "execution_count": null,
      "metadata": {
        "colab": {
          "background_save": true
        },
        "id": "OG0kA_zP8TKW"
      },
      "outputs": [],
      "source": [
        "import pandas as pd\n",
        "import matplotlib.pyplot as plt\n",
        "people = ['kiran', 'arun', 'vijay', 'varun']\n",
        "age = [25, 30, 35, 40]\n",
        "height = [145, 151, 165, 173]\n",
        "weight = [45, 55, 65, 75]\n",
        "health = pd.DataFrame({'People': people, 'Age': age, 'Height': height, 'Weight': weight})"
      ]
    },
    {
      "cell_type": "code",
      "execution_count": null,
      "metadata": {
        "colab": {
          "background_save": true
        },
        "id": "OfefcOTk8VHV",
        "outputId": "4db28630-8f0b-458a-f779-630e39684c94"
      },
      "outputs": [
        {
          "data": {
            "image/png": "[encoded data removed]",
            "text/plain": [
              "<Figure size 800x600 with 1 Axes>"
            ]
          },
          "metadata": {},
          "output_type": "display_data"
        }
      ],
      "source": [
        "plt.figure(figsize=(8, 6))\n",
        "plt.scatter(health['Age'], health['Weight'])\n",
        "plt.title('Scatter Plot of Age vs Weight')\n",
        "plt.xlabel('Age')\n",
        "plt.ylabel('Weight')\n",
        "plt.grid()\n",
        "plt.show()"
      ]
    }
  ],
  "metadata": {
    "colab": {
      "provenance": []
    },
    "kernelspec": {
      "display_name": "Python 3",
      "name": "python3"
    },
    "language_info": {
      "name": "python"
    }
  },
  "nbformat": 4,
  "nbformat_minor": 0
}